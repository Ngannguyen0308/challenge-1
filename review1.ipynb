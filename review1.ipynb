{
 "cells": [
  {
   "cell_type": "code",
   "execution_count": 10,
   "source": [
    "names1 = ['Amir', 'Bear', 'Charlton', 'Daman']\r\n",
    "names2 = names1\r\n",
    "names3 = names1[:]\r\n",
    "names2[0] = 'Alice'\r\n",
    "names3[1] = 'Bob'\r\n",
    "sum = 0\r\n",
    "for ls in (names1, names2, names3):\r\n",
    "    if ls[0] == 'Alice':\r\n",
    "        sum += 1\r\n",
    "    \r\n",
    "\r\n",
    "print(sum)\r\n",
    "print(names3)\r\n",
    "print(names2)\r\n",
    "print(names1)"
   ],
   "outputs": [
    {
     "output_type": "stream",
     "name": "stdout",
     "text": [
      "2\n",
      "['Amir', 'Bob', 'Charlton', 'Daman']\n",
      "['Alice', 'Bear', 'Charlton', 'Daman']\n",
      "['Alice', 'Bear', 'Charlton', 'Daman']\n"
     ]
    }
   ],
   "metadata": {}
  },
  {
   "cell_type": "code",
   "execution_count": 32,
   "source": [
    "total={}\r\n",
    "def insert(items):\r\n",
    "    if items in total:\r\n",
    "        total[items] += 1\r\n",
    "        print(total)\r\n",
    "    else:\r\n",
    "        total[items] = 1\r\n",
    "        print(total)\r\n",
    "insert('Apple')\r\n",
    "insert('Ball')\r\n",
    "insert('Apple')\r\n",
    "print (len(total))\r\n",
    "print(total)"
   ],
   "outputs": [
    {
     "output_type": "stream",
     "name": "stdout",
     "text": [
      "{'Apple': 1}\n",
      "{'Apple': 1, 'Ball': 1}\n",
      "{'Apple': 2, 'Ball': 1}\n",
      "2\n",
      "{'Apple': 2, 'Ball': 1}\n"
     ]
    }
   ],
   "metadata": {}
  },
  {
   "cell_type": "code",
   "execution_count": 46,
   "source": [
    "d = {0: 'h', 1: 'bf', 2: 'e'}\r\n",
    "for x in d.keys():\r\n",
    "    print(x)"
   ],
   "outputs": [
    {
     "output_type": "stream",
     "name": "stdout",
     "text": [
      "0\n",
      "1\n",
      "2\n"
     ]
    }
   ],
   "metadata": {}
  },
  {
   "cell_type": "code",
   "execution_count": 10,
   "source": [
    "x = 'abcd'\r\n",
    "for i in range(len(x)):\r\n",
    "    print(x)\r\n",
    "    x = 'a'"
   ],
   "outputs": [
    {
     "output_type": "stream",
     "name": "stdout",
     "text": [
      "abcd\n",
      "a\n",
      "a\n",
      "a\n"
     ]
    }
   ],
   "metadata": {}
  },
  {
   "cell_type": "code",
   "execution_count": 3,
   "source": [
    "list = ['a','v','s','r']\r\n",
    "print(list)"
   ],
   "outputs": [
    {
     "output_type": "stream",
     "name": "stdout",
     "text": [
      "['a', 'v', 's', 'r']\n"
     ]
    }
   ],
   "metadata": {}
  },
  {
   "cell_type": "code",
   "execution_count": 7,
   "source": [
    "d = {0:'a',1:'b',2:'d'}\r\n",
    "for x in d.keys():\r\n",
    "    print(x)"
   ],
   "outputs": [
    {
     "output_type": "stream",
     "name": "stdout",
     "text": [
      "0\n",
      "1\n",
      "2\n"
     ]
    }
   ],
   "metadata": {}
  },
  {
   "cell_type": "code",
   "execution_count": 55,
   "source": [
    "aList = [4, 8, 12, 16,7]\r\n",
    "print(aList[-1])"
   ],
   "outputs": [
    {
     "output_type": "stream",
     "name": "stdout",
     "text": [
      "7\n"
     ]
    }
   ],
   "metadata": {}
  },
  {
   "cell_type": "code",
   "execution_count": 63,
   "source": [
    "set1 = {\"Yellow\", \"Orange\", \"Black\"}\r\n",
    "set2 = {\"Orange\", \"Blue\", \"Pink\"}\r\n",
    "\r\n",
    "set2.difference_update(set1)\r\n",
    "print(set2)"
   ],
   "outputs": [
    {
     "output_type": "stream",
     "name": "stdout",
     "text": [
      "{'Blue', 'Pink'}\n"
     ]
    }
   ],
   "metadata": {}
  }
 ],
 "metadata": {
  "orig_nbformat": 4,
  "language_info": {
   "name": "python",
   "version": "3.8.8",
   "mimetype": "text/x-python",
   "codemirror_mode": {
    "name": "ipython",
    "version": 3
   },
   "pygments_lexer": "ipython3",
   "nbconvert_exporter": "python",
   "file_extension": ".py"
  },
  "kernelspec": {
   "name": "python3",
   "display_name": "Python 3.8.8 64-bit ('base': conda)"
  },
  "interpreter": {
   "hash": "111fc2b94a257ed4840542c3bd9dace8d701c5156006f7bd3b4de63054408d78"
  }
 },
 "nbformat": 4,
 "nbformat_minor": 2
}