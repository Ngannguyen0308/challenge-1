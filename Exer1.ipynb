{
 "cells": [
  {
   "cell_type": "code",
   "execution_count": 2,
   "source": [
    "import pandas as pd\r\n",
    "import os\r\n",
    "Fname = input('Please enter in the filename')\r\n",
    "df = pd.read_csv(Fname)\r\n",
    "df"
   ],
   "outputs": [
    {
     "output_type": "execute_result",
     "data": {
      "text/plain": [
       "         0  2017-04-09 17:20:09  10323  33.79\n",
       "0        1  2018-08-04 22:47:48  10081  32.82\n",
       "1        2  2017-07-25 18:44:21  10203  54.88\n",
       "2        3  2018-05-28 01:47:21  10376  56.67\n",
       "3        4  2016-01-23 12:25:38  10482  48.82\n",
       "4        5  2018-11-18 18:23:46  10444  34.13\n",
       "...    ...                  ...    ...    ...\n",
       "9994  9995  2016-03-06 12:05:14  10087  25.62\n",
       "9995  9996  2016-07-12 23:48:31  10243  54.00\n",
       "9996  9997  2019-08-05 10:18:02  10258  45.59\n",
       "9997  9998  2017-05-26 23:53:53  10447  21.88\n",
       "9998  9999  2017-06-05 16:56:05  10365  39.79\n",
       "\n",
       "[9999 rows x 4 columns]"
      ],
      "text/html": [
       "<div>\n",
       "<style scoped>\n",
       "    .dataframe tbody tr th:only-of-type {\n",
       "        vertical-align: middle;\n",
       "    }\n",
       "\n",
       "    .dataframe tbody tr th {\n",
       "        vertical-align: top;\n",
       "    }\n",
       "\n",
       "    .dataframe thead th {\n",
       "        text-align: right;\n",
       "    }\n",
       "</style>\n",
       "<table border=\"1\" class=\"dataframe\">\n",
       "  <thead>\n",
       "    <tr style=\"text-align: right;\">\n",
       "      <th></th>\n",
       "      <th>0</th>\n",
       "      <th>2017-04-09 17:20:09</th>\n",
       "      <th>10323</th>\n",
       "      <th>33.79</th>\n",
       "    </tr>\n",
       "  </thead>\n",
       "  <tbody>\n",
       "    <tr>\n",
       "      <th>0</th>\n",
       "      <td>1</td>\n",
       "      <td>2018-08-04 22:47:48</td>\n",
       "      <td>10081</td>\n",
       "      <td>32.82</td>\n",
       "    </tr>\n",
       "    <tr>\n",
       "      <th>1</th>\n",
       "      <td>2</td>\n",
       "      <td>2017-07-25 18:44:21</td>\n",
       "      <td>10203</td>\n",
       "      <td>54.88</td>\n",
       "    </tr>\n",
       "    <tr>\n",
       "      <th>2</th>\n",
       "      <td>3</td>\n",
       "      <td>2018-05-28 01:47:21</td>\n",
       "      <td>10376</td>\n",
       "      <td>56.67</td>\n",
       "    </tr>\n",
       "    <tr>\n",
       "      <th>3</th>\n",
       "      <td>4</td>\n",
       "      <td>2016-01-23 12:25:38</td>\n",
       "      <td>10482</td>\n",
       "      <td>48.82</td>\n",
       "    </tr>\n",
       "    <tr>\n",
       "      <th>4</th>\n",
       "      <td>5</td>\n",
       "      <td>2018-11-18 18:23:46</td>\n",
       "      <td>10444</td>\n",
       "      <td>34.13</td>\n",
       "    </tr>\n",
       "    <tr>\n",
       "      <th>...</th>\n",
       "      <td>...</td>\n",
       "      <td>...</td>\n",
       "      <td>...</td>\n",
       "      <td>...</td>\n",
       "    </tr>\n",
       "    <tr>\n",
       "      <th>9994</th>\n",
       "      <td>9995</td>\n",
       "      <td>2016-03-06 12:05:14</td>\n",
       "      <td>10087</td>\n",
       "      <td>25.62</td>\n",
       "    </tr>\n",
       "    <tr>\n",
       "      <th>9995</th>\n",
       "      <td>9996</td>\n",
       "      <td>2016-07-12 23:48:31</td>\n",
       "      <td>10243</td>\n",
       "      <td>54.00</td>\n",
       "    </tr>\n",
       "    <tr>\n",
       "      <th>9996</th>\n",
       "      <td>9997</td>\n",
       "      <td>2019-08-05 10:18:02</td>\n",
       "      <td>10258</td>\n",
       "      <td>45.59</td>\n",
       "    </tr>\n",
       "    <tr>\n",
       "      <th>9997</th>\n",
       "      <td>9998</td>\n",
       "      <td>2017-05-26 23:53:53</td>\n",
       "      <td>10447</td>\n",
       "      <td>21.88</td>\n",
       "    </tr>\n",
       "    <tr>\n",
       "      <th>9998</th>\n",
       "      <td>9999</td>\n",
       "      <td>2017-06-05 16:56:05</td>\n",
       "      <td>10365</td>\n",
       "      <td>39.79</td>\n",
       "    </tr>\n",
       "  </tbody>\n",
       "</table>\n",
       "<p>9999 rows × 4 columns</p>\n",
       "</div>"
      ]
     },
     "metadata": {},
     "execution_count": 2
    }
   ],
   "metadata": {}
  },
  {
   "cell_type": "code",
   "execution_count": 3,
   "source": [
    "path = 'D:\\IntroCSE\\Challenge 1/'\r\n",
    "df = pd.read_csv(path + 'transactions_medium.csv', sep=',', names=['record_id', 'date', 'user_id', 'amount'])\r\n",
    "df"
   ],
   "outputs": [
    {
     "output_type": "execute_result",
     "data": {
      "text/plain": [
       "        record_id                 date  user_id  amount\n",
       "0               0  2019-03-28 08:06:32    10642   60.29\n",
       "1               1  2018-06-07 09:47:54    11141   36.71\n",
       "2               2  2019-06-09 19:14:19    10120   19.92\n",
       "3               3  2019-05-24 23:23:58    10714  -12.52\n",
       "4               4  2018-09-10 05:42:41    10888   53.80\n",
       "...           ...                  ...      ...     ...\n",
       "999995     999995  2016-05-14 01:12:32    10703   43.46\n",
       "999996     999996  2018-01-02 09:59:13    11152   19.89\n",
       "999997     999997  2018-11-16 20:25:28    10037   29.45\n",
       "999998     999998  2018-10-20 10:51:54    11358   41.11\n",
       "999999     999999  2020-01-27 16:44:09    10154   43.97\n",
       "\n",
       "[1000000 rows x 4 columns]"
      ],
      "text/html": [
       "<div>\n",
       "<style scoped>\n",
       "    .dataframe tbody tr th:only-of-type {\n",
       "        vertical-align: middle;\n",
       "    }\n",
       "\n",
       "    .dataframe tbody tr th {\n",
       "        vertical-align: top;\n",
       "    }\n",
       "\n",
       "    .dataframe thead th {\n",
       "        text-align: right;\n",
       "    }\n",
       "</style>\n",
       "<table border=\"1\" class=\"dataframe\">\n",
       "  <thead>\n",
       "    <tr style=\"text-align: right;\">\n",
       "      <th></th>\n",
       "      <th>record_id</th>\n",
       "      <th>date</th>\n",
       "      <th>user_id</th>\n",
       "      <th>amount</th>\n",
       "    </tr>\n",
       "  </thead>\n",
       "  <tbody>\n",
       "    <tr>\n",
       "      <th>0</th>\n",
       "      <td>0</td>\n",
       "      <td>2019-03-28 08:06:32</td>\n",
       "      <td>10642</td>\n",
       "      <td>60.29</td>\n",
       "    </tr>\n",
       "    <tr>\n",
       "      <th>1</th>\n",
       "      <td>1</td>\n",
       "      <td>2018-06-07 09:47:54</td>\n",
       "      <td>11141</td>\n",
       "      <td>36.71</td>\n",
       "    </tr>\n",
       "    <tr>\n",
       "      <th>2</th>\n",
       "      <td>2</td>\n",
       "      <td>2019-06-09 19:14:19</td>\n",
       "      <td>10120</td>\n",
       "      <td>19.92</td>\n",
       "    </tr>\n",
       "    <tr>\n",
       "      <th>3</th>\n",
       "      <td>3</td>\n",
       "      <td>2019-05-24 23:23:58</td>\n",
       "      <td>10714</td>\n",
       "      <td>-12.52</td>\n",
       "    </tr>\n",
       "    <tr>\n",
       "      <th>4</th>\n",
       "      <td>4</td>\n",
       "      <td>2018-09-10 05:42:41</td>\n",
       "      <td>10888</td>\n",
       "      <td>53.80</td>\n",
       "    </tr>\n",
       "    <tr>\n",
       "      <th>...</th>\n",
       "      <td>...</td>\n",
       "      <td>...</td>\n",
       "      <td>...</td>\n",
       "      <td>...</td>\n",
       "    </tr>\n",
       "    <tr>\n",
       "      <th>999995</th>\n",
       "      <td>999995</td>\n",
       "      <td>2016-05-14 01:12:32</td>\n",
       "      <td>10703</td>\n",
       "      <td>43.46</td>\n",
       "    </tr>\n",
       "    <tr>\n",
       "      <th>999996</th>\n",
       "      <td>999996</td>\n",
       "      <td>2018-01-02 09:59:13</td>\n",
       "      <td>11152</td>\n",
       "      <td>19.89</td>\n",
       "    </tr>\n",
       "    <tr>\n",
       "      <th>999997</th>\n",
       "      <td>999997</td>\n",
       "      <td>2018-11-16 20:25:28</td>\n",
       "      <td>10037</td>\n",
       "      <td>29.45</td>\n",
       "    </tr>\n",
       "    <tr>\n",
       "      <th>999998</th>\n",
       "      <td>999998</td>\n",
       "      <td>2018-10-20 10:51:54</td>\n",
       "      <td>11358</td>\n",
       "      <td>41.11</td>\n",
       "    </tr>\n",
       "    <tr>\n",
       "      <th>999999</th>\n",
       "      <td>999999</td>\n",
       "      <td>2020-01-27 16:44:09</td>\n",
       "      <td>10154</td>\n",
       "      <td>43.97</td>\n",
       "    </tr>\n",
       "  </tbody>\n",
       "</table>\n",
       "<p>1000000 rows × 4 columns</p>\n",
       "</div>"
      ]
     },
     "metadata": {},
     "execution_count": 3
    }
   ],
   "metadata": {}
  },
  {
   "cell_type": "code",
   "execution_count": 4,
   "source": [
    "import time\r\n",
    "class Timer(object):\r\n",
    "    def __init__(self):\r\n",
    "        self.times = []\r\n",
    "        self.start()\r\n",
    "\r\n",
    "    def start(self):\r\n",
    "        self.start_time = time.time()\r\n",
    "\r\n",
    "    def stop(self):\r\n",
    "        self.times.append(time.time() - self.start_time)\r\n",
    "        return self.times[-1]"
   ],
   "outputs": [],
   "metadata": {}
  },
  {
   "cell_type": "code",
   "execution_count": 5,
   "source": [
    "timer = Timer()\r\n",
    "df['Month'] = df['date'].str.slice(start= 5, stop=7, step= 1)\r\n",
    "print(df.head(10))\r\n",
    "print('Time to exec mean_func %.5f sec:' % timer.stop())"
   ],
   "outputs": [
    {
     "output_type": "stream",
     "name": "stdout",
     "text": [
      "   record_id                 date  user_id  amount Month\n",
      "0          0  2019-03-28 08:06:32    10642   60.29    03\n",
      "1          1  2018-06-07 09:47:54    11141   36.71    06\n",
      "2          2  2019-06-09 19:14:19    10120   19.92    06\n",
      "3          3  2019-05-24 23:23:58    10714  -12.52    05\n",
      "4          4  2018-09-10 05:42:41    10888   53.80    09\n",
      "5          5  2018-07-26 14:53:36    10768    9.43    07\n",
      "6          6  2017-04-30 19:37:08    10427   59.11    04\n",
      "7          7  2020-01-19 13:28:40    10085    5.17    01\n",
      "8          8  2018-07-11 09:31:32    10592    3.64    07\n",
      "9          9  2019-03-30 18:19:10    11187   19.41    03\n",
      "Time to exec mean_func 0.38102 sec:\n"
     ]
    }
   ],
   "metadata": {}
  },
  {
   "cell_type": "code",
   "execution_count": 6,
   "source": [
    "timer = Timer()\r\n",
    "print('Time to exec mean_func %.5f sec:' % timer.stop())\r\n",
    "df.groupby('Month')['amount'].mean()"
   ],
   "outputs": [
    {
     "output_type": "stream",
     "name": "stdout",
     "text": [
      "Time to exec mean_func 0.00000 sec:\n"
     ]
    },
    {
     "output_type": "execute_result",
     "data": {
      "text/plain": [
       "Month\n",
       "01    29.963394\n",
       "02    29.986668\n",
       "03    30.016803\n",
       "04    29.992362\n",
       "05    29.941243\n",
       "06    29.866906\n",
       "07    29.961660\n",
       "08    29.911676\n",
       "09    29.978576\n",
       "10    29.810988\n",
       "11    29.992510\n",
       "12    29.897908\n",
       "Name: amount, dtype: float64"
      ]
     },
     "metadata": {},
     "execution_count": 6
    }
   ],
   "metadata": {}
  },
  {
   "cell_type": "code",
   "execution_count": 7,
   "source": [
    "timer = Timer()\r\n",
    "transaction_value = df.groupby('Month')['amount'].mean()\r\n",
    "result1 = transaction_value.max()\r\n",
    "r1 = df.groupby('Month')['amount'].mean()\r\n",
    "rp1 = pd.Series(r1, dtype=('float32'))\r\n",
    "\r\n",
    "for month, sales1 in transaction_value.items():\r\n",
    "    if sales1 == result1:\r\n",
    "        print(f'Month is {month} with the maximum transaction value is {result1}')\r\n",
    "\r\n",
    "print('Time to exec mean_func %.5f sec:' % timer.stop())"
   ],
   "outputs": [
    {
     "output_type": "stream",
     "name": "stdout",
     "text": [
      "Month is 03 with the maximum transaction value is 30.016803343853134\n",
      "Time to exec mean_func 0.15678 sec:\n"
     ]
    }
   ],
   "metadata": {}
  },
  {
   "cell_type": "code",
   "execution_count": 8,
   "source": [
    "timer = Timer()\r\n",
    "result2 = transaction_value.min()\r\n",
    "r2= df.groupby('Month')['amount'].mean()\r\n",
    "rp2 = pd.Series(r2, dtype=('float32'))\r\n",
    "\r\n",
    "for month, sales2 in transaction_value.items():\r\n",
    "    if sales2 == result2:\r\n",
    "        print(f'Month is {month} with the minimum transaction value is {result2}')\r\n",
    "\r\n",
    "print('Time to exec mean_func %.5f sec:' % timer.stop())"
   ],
   "outputs": [
    {
     "output_type": "stream",
     "name": "stdout",
     "text": [
      "Month is 10 with the minimum transaction value is 29.810987769896645\n",
      "Time to exec mean_func 0.10848 sec:\n"
     ]
    }
   ],
   "metadata": {}
  }
 ],
 "metadata": {
  "orig_nbformat": 4,
  "language_info": {
   "name": "python",
   "version": "3.8.8",
   "mimetype": "text/x-python",
   "codemirror_mode": {
    "name": "ipython",
    "version": 3
   },
   "pygments_lexer": "ipython3",
   "nbconvert_exporter": "python",
   "file_extension": ".py"
  },
  "kernelspec": {
   "name": "python3",
   "display_name": "Python 3.8.8 64-bit ('base': conda)"
  },
  "interpreter": {
   "hash": "111fc2b94a257ed4840542c3bd9dace8d701c5156006f7bd3b4de63054408d78"
  }
 },
 "nbformat": 4,
 "nbformat_minor": 2
}