{
    "cells": [
        {
            "cell_type": "code",
            "execution_count": 147,
            "source": [
                "import pandas as pd\r\n",
                "import os\r\n",
                "Fname = input('Please enter in the filename')\r\n",
                "df = pd.read_csv(Fname)\r\n",
                "df"
            ],
            "outputs": [
                {
                    "output_type": "execute_result",
                    "data": {
                        "text/plain": [
                            "             0  2019-03-28 08:06:32  10642  60.29\n",
                            "0            1  2018-06-07 09:47:54  11141  36.71\n",
                            "1            2  2019-06-09 19:14:19  10120  19.92\n",
                            "2            3  2019-05-24 23:23:58  10714 -12.52\n",
                            "3            4  2018-09-10 05:42:41  10888  53.80\n",
                            "4            5  2018-07-26 14:53:36  10768   9.43\n",
                            "...        ...                  ...    ...    ...\n",
                            "999994  999995  2016-05-14 01:12:32  10703  43.46\n",
                            "999995  999996  2018-01-02 09:59:13  11152  19.89\n",
                            "999996  999997  2018-11-16 20:25:28  10037  29.45\n",
                            "999997  999998  2018-10-20 10:51:54  11358  41.11\n",
                            "999998  999999  2020-01-27 16:44:09  10154  43.97\n",
                            "\n",
                            "[999999 rows x 4 columns]"
                        ],
                        "text/html": [
                            "<div>\n",
                            "<style scoped>\n",
                            "    .dataframe tbody tr th:only-of-type {\n",
                            "        vertical-align: middle;\n",
                            "    }\n",
                            "\n",
                            "    .dataframe tbody tr th {\n",
                            "        vertical-align: top;\n",
                            "    }\n",
                            "\n",
                            "    .dataframe thead th {\n",
                            "        text-align: right;\n",
                            "    }\n",
                            "</style>\n",
                            "<table border=\"1\" class=\"dataframe\">\n",
                            "  <thead>\n",
                            "    <tr style=\"text-align: right;\">\n",
                            "      <th></th>\n",
                            "      <th>0</th>\n",
                            "      <th>2019-03-28 08:06:32</th>\n",
                            "      <th>10642</th>\n",
                            "      <th>60.29</th>\n",
                            "    </tr>\n",
                            "  </thead>\n",
                            "  <tbody>\n",
                            "    <tr>\n",
                            "      <th>0</th>\n",
                            "      <td>1</td>\n",
                            "      <td>2018-06-07 09:47:54</td>\n",
                            "      <td>11141</td>\n",
                            "      <td>36.71</td>\n",
                            "    </tr>\n",
                            "    <tr>\n",
                            "      <th>1</th>\n",
                            "      <td>2</td>\n",
                            "      <td>2019-06-09 19:14:19</td>\n",
                            "      <td>10120</td>\n",
                            "      <td>19.92</td>\n",
                            "    </tr>\n",
                            "    <tr>\n",
                            "      <th>2</th>\n",
                            "      <td>3</td>\n",
                            "      <td>2019-05-24 23:23:58</td>\n",
                            "      <td>10714</td>\n",
                            "      <td>-12.52</td>\n",
                            "    </tr>\n",
                            "    <tr>\n",
                            "      <th>3</th>\n",
                            "      <td>4</td>\n",
                            "      <td>2018-09-10 05:42:41</td>\n",
                            "      <td>10888</td>\n",
                            "      <td>53.80</td>\n",
                            "    </tr>\n",
                            "    <tr>\n",
                            "      <th>4</th>\n",
                            "      <td>5</td>\n",
                            "      <td>2018-07-26 14:53:36</td>\n",
                            "      <td>10768</td>\n",
                            "      <td>9.43</td>\n",
                            "    </tr>\n",
                            "    <tr>\n",
                            "      <th>...</th>\n",
                            "      <td>...</td>\n",
                            "      <td>...</td>\n",
                            "      <td>...</td>\n",
                            "      <td>...</td>\n",
                            "    </tr>\n",
                            "    <tr>\n",
                            "      <th>999994</th>\n",
                            "      <td>999995</td>\n",
                            "      <td>2016-05-14 01:12:32</td>\n",
                            "      <td>10703</td>\n",
                            "      <td>43.46</td>\n",
                            "    </tr>\n",
                            "    <tr>\n",
                            "      <th>999995</th>\n",
                            "      <td>999996</td>\n",
                            "      <td>2018-01-02 09:59:13</td>\n",
                            "      <td>11152</td>\n",
                            "      <td>19.89</td>\n",
                            "    </tr>\n",
                            "    <tr>\n",
                            "      <th>999996</th>\n",
                            "      <td>999997</td>\n",
                            "      <td>2018-11-16 20:25:28</td>\n",
                            "      <td>10037</td>\n",
                            "      <td>29.45</td>\n",
                            "    </tr>\n",
                            "    <tr>\n",
                            "      <th>999997</th>\n",
                            "      <td>999998</td>\n",
                            "      <td>2018-10-20 10:51:54</td>\n",
                            "      <td>11358</td>\n",
                            "      <td>41.11</td>\n",
                            "    </tr>\n",
                            "    <tr>\n",
                            "      <th>999998</th>\n",
                            "      <td>999999</td>\n",
                            "      <td>2020-01-27 16:44:09</td>\n",
                            "      <td>10154</td>\n",
                            "      <td>43.97</td>\n",
                            "    </tr>\n",
                            "  </tbody>\n",
                            "</table>\n",
                            "<p>999999 rows × 4 columns</p>\n",
                            "</div>"
                        ]
                    },
                    "metadata": {},
                    "execution_count": 147
                }
            ],
            "metadata": {}
        },
        {
            "cell_type": "code",
            "execution_count": 148,
            "source": [
                "path = 'D:\\IntroCSE\\Challenge 1/'\r\n",
                "df = pd.read_csv(path + 'transactions_medium.csv')\r\n",
                "print(df.head())\r\n"
            ],
            "outputs": [
                {
                    "output_type": "stream",
                    "name": "stdout",
                    "text": [
                        "   0  2019-03-28 08:06:32  10642  60.29\n",
                        "0  1  2018-06-07 09:47:54  11141  36.71\n",
                        "1  2  2019-06-09 19:14:19  10120  19.92\n",
                        "2  3  2019-05-24 23:23:58  10714 -12.52\n",
                        "3  4  2018-09-10 05:42:41  10888  53.80\n",
                        "4  5  2018-07-26 14:53:36  10768   9.43\n"
                    ]
                }
            ],
            "metadata": {}
        },
        {
            "cell_type": "code",
            "execution_count": 135,
            "source": [
                "fr = []\r\n",
                "all_length = []\r\n",
                "for tm in os.listdir(path):\r\n",
                "    if tm.endswith('.csv'):\r\n",
                "        fp = path + tm \r\n",
                "        df1 = pd.read_csv(fp)      \r\n",
                "        fr.append(df1)\r\n",
                "        results = pd.concat(fr)\r\n",
                "        length_month = len(df1.index)\r\n",
                "        all_length.append(length_month)       \r\n",
                "df = results\r\n",
                "df.to_csv('Sales2019_all.csv', index=False)"
            ],
            "outputs": [],
            "metadata": {}
        },
        {
            "cell_type": "code",
            "execution_count": 136,
            "source": [
                "print(sum(all_length))"
            ],
            "outputs": [
                {
                    "output_type": "stream",
                    "name": "stdout",
                    "text": [
                        "373700\n"
                    ]
                }
            ],
            "metadata": {}
        },
        {
            "cell_type": "code",
            "execution_count": 137,
            "source": [
                "df['Month'] = df['Order Date'].str.slice(start= 0, stop=2, step= 1)\r\n",
                "print(df.head(10))"
            ],
            "outputs": [
                {
                    "output_type": "stream",
                    "name": "stdout",
                    "text": [
                        "  Order ID                     Product Quantity Ordered Price Each  \\\n",
                        "0   141234                      iPhone                1        700   \n",
                        "1   141235    Lightning Charging Cable                1      14.95   \n",
                        "2   141236            Wired Headphones                2      11.99   \n",
                        "3   141237            27in FHD Monitor                1     149.99   \n",
                        "4   141238            Wired Headphones                1      11.99   \n",
                        "5   141239      AAA Batteries (4-pack)                1       2.99   \n",
                        "6   141240      27in 4K Gaming Monitor                1     389.99   \n",
                        "7   141241        USB-C Charging Cable                1      11.95   \n",
                        "8   141242  Bose SoundSport Headphones                1      99.99   \n",
                        "9   141243    Apple Airpods Headphones                1        150   \n",
                        "\n",
                        "       Order Date                         Purchase Address Month  \n",
                        "0  01/22/19 21:25          944 Walnut St, Boston, MA 02215    01  \n",
                        "1  01/28/19 14:15         185 Maple St, Portland, OR 97035    01  \n",
                        "2  01/17/19 13:33    538 Adams St, San Francisco, CA 94016    01  \n",
                        "3  01/05/19 20:33       738 10th St, Los Angeles, CA 90001    01  \n",
                        "4  01/25/19 11:59            387 10th St, Austin, TX 73301    01  \n",
                        "5  01/29/19 20:22   775 Willow St, San Francisco, CA 94016    01  \n",
                        "6  01/26/19 12:16       979 Park St, Los Angeles, CA 90001    01  \n",
                        "7  01/05/19 12:04      181 6th St, San Francisco, CA 94016    01  \n",
                        "8  01/01/19 10:30     867 Willow St, Los Angeles, CA 90001    01  \n",
                        "9  01/22/19 21:20  657 Johnson St, San Francisco, CA 94016    01  \n"
                    ]
                }
            ],
            "metadata": {}
        },
        {
            "cell_type": "code",
            "execution_count": 138,
            "source": [
                "df = df.dropna(how='all')\r\n",
                "print(df.head())"
            ],
            "outputs": [
                {
                    "output_type": "stream",
                    "name": "stdout",
                    "text": [
                        "  Order ID                   Product Quantity Ordered Price Each  \\\n",
                        "0   141234                    iPhone                1        700   \n",
                        "1   141235  Lightning Charging Cable                1      14.95   \n",
                        "2   141236          Wired Headphones                2      11.99   \n",
                        "3   141237          27in FHD Monitor                1     149.99   \n",
                        "4   141238          Wired Headphones                1      11.99   \n",
                        "\n",
                        "       Order Date                       Purchase Address Month  \n",
                        "0  01/22/19 21:25        944 Walnut St, Boston, MA 02215    01  \n",
                        "1  01/28/19 14:15       185 Maple St, Portland, OR 97035    01  \n",
                        "2  01/17/19 13:33  538 Adams St, San Francisco, CA 94016    01  \n",
                        "3  01/05/19 20:33     738 10th St, Los Angeles, CA 90001    01  \n",
                        "4  01/25/19 11:59          387 10th St, Austin, TX 73301    01  \n"
                    ]
                }
            ],
            "metadata": {}
        },
        {
            "cell_type": "code",
            "execution_count": 139,
            "source": [
                "print(set(df['Month']))"
            ],
            "outputs": [
                {
                    "output_type": "stream",
                    "name": "stdout",
                    "text": [
                        "{'02', '10', '12', '03', '08', '11', '06', 'Or', '04', '07', '09', '05', '01'}\n"
                    ]
                }
            ],
            "metadata": {}
        },
        {
            "cell_type": "code",
            "execution_count": 140,
            "source": [
                "df = df[df['Month'] != 'Or']\r\n",
                "print(df.head())"
            ],
            "outputs": [
                {
                    "output_type": "stream",
                    "name": "stdout",
                    "text": [
                        "  Order ID                   Product Quantity Ordered Price Each  \\\n",
                        "0   141234                    iPhone                1        700   \n",
                        "1   141235  Lightning Charging Cable                1      14.95   \n",
                        "2   141236          Wired Headphones                2      11.99   \n",
                        "3   141237          27in FHD Monitor                1     149.99   \n",
                        "4   141238          Wired Headphones                1      11.99   \n",
                        "\n",
                        "       Order Date                       Purchase Address Month  \n",
                        "0  01/22/19 21:25        944 Walnut St, Boston, MA 02215    01  \n",
                        "1  01/28/19 14:15       185 Maple St, Portland, OR 97035    01  \n",
                        "2  01/17/19 13:33  538 Adams St, San Francisco, CA 94016    01  \n",
                        "3  01/05/19 20:33     738 10th St, Los Angeles, CA 90001    01  \n",
                        "4  01/25/19 11:59          387 10th St, Austin, TX 73301    01  \n"
                    ]
                }
            ],
            "metadata": {}
        },
        {
            "cell_type": "code",
            "execution_count": 141,
            "source": [
                "print(df['Quantity Ordered'].dtypes)\r\n",
                "print(df['Price Each'].dtypes)"
            ],
            "outputs": [
                {
                    "output_type": "stream",
                    "name": "stdout",
                    "text": [
                        "object\n",
                        "object\n"
                    ]
                }
            ],
            "metadata": {}
        },
        {
            "cell_type": "code",
            "execution_count": 142,
            "source": [
                "df['Quantity Ordered'] = pd.to_numeric(df['Quantity Ordered'], downcast='integer')\r\n",
                "df['Price Each'] = pd.to_numeric(df['Price Each'], downcast='float')\r\n"
            ],
            "outputs": [],
            "metadata": {}
        },
        {
            "cell_type": "code",
            "execution_count": 143,
            "source": [
                "df['Transaction'] = df['Price Each'] * df['Quantity Ordered']\r\n",
                "print(df.head())"
            ],
            "outputs": [
                {
                    "output_type": "stream",
                    "name": "stdout",
                    "text": [
                        "  Order ID                   Product  Quantity Ordered  Price Each  \\\n",
                        "0   141234                    iPhone                 1  700.000000   \n",
                        "1   141235  Lightning Charging Cable                 1   14.950000   \n",
                        "2   141236          Wired Headphones                 2   11.990000   \n",
                        "3   141237          27in FHD Monitor                 1  149.990005   \n",
                        "4   141238          Wired Headphones                 1   11.990000   \n",
                        "\n",
                        "       Order Date                       Purchase Address Month  Transaction  \n",
                        "0  01/22/19 21:25        944 Walnut St, Boston, MA 02215    01   700.000000  \n",
                        "1  01/28/19 14:15       185 Maple St, Portland, OR 97035    01    14.950000  \n",
                        "2  01/17/19 13:33  538 Adams St, San Francisco, CA 94016    01    23.980000  \n",
                        "3  01/05/19 20:33     738 10th St, Los Angeles, CA 90001    01   149.990005  \n",
                        "4  01/25/19 11:59          387 10th St, Austin, TX 73301    01    11.990000  \n"
                    ]
                }
            ],
            "metadata": {}
        },
        {
            "cell_type": "code",
            "execution_count": 144,
            "source": [
                "df.groupby('Month')['Transaction'].mean()"
            ],
            "outputs": [
                {
                    "output_type": "execute_result",
                    "data": {
                        "text/plain": [
                            "Month\n",
                            "01    187.687378\n",
                            "02    183.884964\n",
                            "03    185.250473\n",
                            "04    185.495392\n",
                            "05    190.305847\n",
                            "06    190.187561\n",
                            "07    185.249832\n",
                            "08    187.648849\n",
                            "09    180.497391\n",
                            "10    184.238586\n",
                            "11    182.074951\n",
                            "12    184.655914\n",
                            "Name: Transaction, dtype: float32"
                        ]
                    },
                    "metadata": {},
                    "execution_count": 144
                }
            ],
            "metadata": {}
        },
        {
            "cell_type": "code",
            "execution_count": 145,
            "source": [
                "transaction_value = df.groupby('Month')['Transaction'].mean()\r\n",
                "result1 = transaction_value.max()\r\n",
                "r1 = df.groupby('Month')['Transaction'].mean()\r\n",
                "rp1 = pd.Series(r, dtype=('float32'))\r\n",
                "\r\n",
                "for month, sales1 in transaction_value.items():\r\n",
                "    if sales1 == result:\r\n",
                "        print(f'Month is {month} with the maximum transaction value is {result}')\r\n"
            ],
            "outputs": [
                {
                    "output_type": "stream",
                    "name": "stdout",
                    "text": [
                        "Month is 05 with the maximum transaction value is 190.30584716796875\n"
                    ]
                }
            ],
            "metadata": {}
        },
        {
            "cell_type": "code",
            "execution_count": 146,
            "source": [
                "result2 = transaction_value.min()\r\n",
                "r2= df.groupby('Month')['Transaction'].mean()\r\n",
                "rp2 = pd.Series(r2, dtype=('float32'))\r\n",
                "\r\n",
                "for month, sales2 in transaction_value.items():\r\n",
                "    if sales2 == result2:\r\n",
                "        print(f'Month is {month} with the minimum transaction value is {result2}')"
            ],
            "outputs": [
                {
                    "output_type": "stream",
                    "name": "stdout",
                    "text": [
                        "Month is 09 with the minimum transaction value is 180.4973907470703\n"
                    ]
                }
            ],
            "metadata": {}
        }
    ],
    "metadata": {
        "orig_nbformat": 4,
        "language_info": {
            "name": "python",
            "version": "3.8.8",
            "mimetype": "text/x-python",
            "codemirror_mode": {
                "name": "ipython",
                "version": 3
            },
            "pygments_lexer": "ipython3",
            "nbconvert_exporter": "python",
            "file_extension": ".py"
        },
        "kernelspec": {
            "name": "python3",
            "display_name": "Python 3.8.8 64-bit ('base': conda)"
        },
        "interpreter": {
            "hash": "111fc2b94a257ed4840542c3bd9dace8d701c5156006f7bd3b4de63054408d78"
        }
    },
    "nbformat": 4,
    "nbformat_minor": 2
}